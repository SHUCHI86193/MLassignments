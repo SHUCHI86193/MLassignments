{
 "cells": [
  {
   "cell_type": "code",
   "execution_count": null,
   "metadata": {},
   "outputs": [],
   "source": [
    "# Question 1\n",
    "\n",
    "def funct(Pa,Pb,Pab):\n",
    "    Pba = Pab/Pa\n",
    "    print(\"P(B|A) = \",Pba)\n",
    "    \n",
    "Pa = input(\"Enter P(A) : \")\n",
    "t1 = Pa.split('/')\n",
    "x1 = int(t1[0])/int(t1[1])\n",
    "Pb = input(\"Enter P(B) : \")\n",
    "t2 = Pb.split('/')\n",
    "x2 = int(t2[0])/int(t2[1])\n",
    "Pab = input(\"Enter P(A|B) : \")\n",
    "t3 = Pab.split('/')\n",
    "x3 = int(t3[0])/int(t3[1])\n",
    "funct(x1,x2,x3)"
   ]
  },
  {
   "cell_type": "code",
   "execution_count": null,
   "metadata": {},
   "outputs": [],
   "source": [
    "# Question 2\n",
    "\n",
    "prob. of bag 1 selected = 1/2            prob. of bag 2 selected = 1/2\n",
    "prob. black ball frm bag 1 = 6/10        prob. of black ball frm bag 2 = 3/7\n",
    "\n",
    "prob. of black ball drawn frm bag 1 = (1/2 * 6/10) / ((1/2 * 6/10) + (1/2 * 3/7)) = 3/5 answer."
   ]
  },
  {
   "cell_type": "code",
   "execution_count": null,
   "metadata": {},
   "outputs": [],
   "source": [
    "# Question 3\n",
    "\n",
    "prob. of 4 = 1/6                      prob. of not 4 = 5/6\n",
    "prob. of truth = 2/3                  prob. of lying = 1/3\n",
    "\n",
    "prob of getting 4 and being the truth = (1/6 * 2/3) / ((1/6 * 2/3) + (5/6 * 1/3))\n",
    "                                      = 2/7 answer."
   ]
  }
 ],
 "metadata": {
  "kernelspec": {
   "display_name": "Python 3",
   "language": "python",
   "name": "python3"
  },
  "language_info": {
   "codemirror_mode": {
    "name": "ipython",
    "version": 3
   },
   "file_extension": ".py",
   "mimetype": "text/x-python",
   "name": "python",
   "nbconvert_exporter": "python",
   "pygments_lexer": "ipython3",
   "version": "3.7.1"
  }
 },
 "nbformat": 4,
 "nbformat_minor": 2
}
