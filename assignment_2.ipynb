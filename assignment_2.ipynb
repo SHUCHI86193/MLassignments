{
 "cells": [
  {
   "cell_type": "code",
   "execution_count": null,
   "metadata": {},
   "outputs": [],
   "source": [
    "#Question 1\n",
    "\n",
    "import numpy as np\n",
    "\n",
    "a = np.random.random((10,1))\n",
    "x = np.mean(a)\n",
    "x"
   ]
  },
  {
   "cell_type": "code",
   "execution_count": null,
   "metadata": {},
   "outputs": [],
   "source": [
    "#Question 2\n",
    "\n",
    "import numpy as np\n",
    "\n",
    "b = np.random.random((20,1))\n",
    "\n",
    "print(\"Variance : \",np.var(b))\n",
    "print(\"Standard deviation : \",np.std(b))"
   ]
  },
  {
   "cell_type": "code",
   "execution_count": null,
   "metadata": {},
   "outputs": [],
   "source": [
    "#Question 3\n",
    "\n",
    "import numpy as np\n",
    "\n",
    "A = np.random.random((10,20))\n",
    "B = np.random.random((20,25))\n",
    "y = np.matmul(A,B)\n",
    "print(y)\n",
    "print(\"Sum of all elements of new matrix : \",np.ndarray.sum(y))"
   ]
  },
  {
   "cell_type": "code",
   "execution_count": null,
   "metadata": {},
   "outputs": [],
   "source": [
    "#Question 4\n",
    "\n",
    "import numpy as np\n",
    "\n",
    "A1 = np.random.random((10,1))\n",
    "print(A1)\n",
    "func = lambda x: (1 / (1 + np.exp(-x)))\n",
    "A2 = np.array([func(i) for i in A1])\n",
    "print(\"\\nThe new array : \\n\",A2)"
   ]
  }
 ],
 "metadata": {
  "kernelspec": {
   "display_name": "Python 3",
   "language": "python",
   "name": "python3"
  },
  "language_info": {
   "codemirror_mode": {
    "name": "ipython",
    "version": 3
   },
   "file_extension": ".py",
   "mimetype": "text/x-python",
   "name": "python",
   "nbconvert_exporter": "python",
   "pygments_lexer": "ipython3",
   "version": "3.7.1"
  }
 },
 "nbformat": 4,
 "nbformat_minor": 2
}
